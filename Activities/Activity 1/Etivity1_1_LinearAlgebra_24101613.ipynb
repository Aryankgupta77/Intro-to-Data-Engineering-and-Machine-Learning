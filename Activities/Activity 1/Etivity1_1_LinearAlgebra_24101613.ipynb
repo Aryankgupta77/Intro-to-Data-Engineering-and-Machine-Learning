{
  "cells": [
    {
      "cell_type": "markdown",
      "metadata": {
        "id": "otCqe-vZvQyA"
      },
      "source": [
        "### Your details"
      ]
    },
    {
      "cell_type": "markdown",
      "metadata": {
        "id": "0vngMQz9vQyD"
      },
      "source": [
        "Your Name: Aryank Gupta"
      ]
    },
    {
      "cell_type": "markdown",
      "metadata": {
        "id": "4I2lpKsQvQyD"
      },
      "source": [
        "Your ID number: 24101613"
      ]
    },
    {
      "cell_type": "markdown",
      "metadata": {
        "id": "nh98cIRSvQyE"
      },
      "source": [
        "# Task 1"
      ]
    },
    {
      "cell_type": "markdown",
      "metadata": {
        "id": "2zMFH-YAvQyE"
      },
      "source": [
        "Vector Operations\n"
      ]
    },
    {
      "cell_type": "markdown",
      "metadata": {
        "id": "2ubFnkR7vQyF"
      },
      "source": [
        "## Manual Calculations"
      ]
    },
    {
      "cell_type": "markdown",
      "metadata": {
        "id": "OXDKr4iIvQyF"
      },
      "source": [
        "## Code"
      ]
    },
    {
      "cell_type": "code",
      "execution_count": 1,
      "metadata": {
        "id": "2ic7uWJNvQyG"
      },
      "outputs": [],
      "source": [
        "array1 = [1,2,3]\n",
        "array2 = [4,5,6]\n",
        "\n",
        "def isEqualVectorSize(v1, v2):\n",
        "  return len(v1) == len(v2)\n",
        "\n",
        "def inValidVectorLength():\n",
        "  print(\"Vectors must have the same length\")"
      ]
    },
    {
      "cell_type": "markdown",
      "source": [
        "Task - Scalar multiplication of a vector\n",
        "\n",
        "Approach - Iterate through each element in the array and multiply with the scalar"
      ],
      "metadata": {
        "id": "PUXAtqE-wmt5"
      }
    },
    {
      "cell_type": "code",
      "source": [
        "def ScalarMultiplication(scalar, vectors):\n",
        "  return [scalar * vector for vector in vectors]\n",
        "\n",
        "# Test case 1: Both are real numbers\n",
        "print(\"Test Case 1:\")\n",
        "scalar = 2\n",
        "print(ScalarMultiplication(scalar, array1))\n",
        "\n",
        "# Test case 2: Where scalar is 0\n",
        "print(\"Test Case 2:\")\n",
        "scalar = 0\n",
        "print(ScalarMultiplication(scalar, array1))\n",
        "\n",
        "# Test case 3: Where vectors are empty\n",
        "print(\"Test Case 3:\")\n",
        "scalar = -1\n",
        "print(ScalarMultiplication(scalar, []))"
      ],
      "metadata": {
        "id": "W7gE_AkVwhHH"
      },
      "execution_count": null,
      "outputs": []
    },
    {
      "cell_type": "markdown",
      "source": [
        "Task - Addition and subtraction of two vectors.\n",
        "\n",
        "Approach - Verify if both the vectors are of same size.If not, then the operations cannot be performed. Then iterate both the vectors parallely and perform element-wise sum and difference"
      ],
      "metadata": {
        "id": "5BTKmm2czZk7"
      }
    },
    {
      "cell_type": "code",
      "source": [
        "def VectorAddition(v1, v2):\n",
        "  if not isEqualVectorSize(v1, v2):\n",
        "    inValidVectorLength()\n",
        "    return None\n",
        "\n",
        "  return [v1[i] + v2[i] for i in range(len(v1))]\n",
        "\n",
        "def VectorSubtraction(v1, v2):\n",
        "  if not isEqualVectorSize(v1, v2):\n",
        "    inValidVectorLength()\n",
        "    return None\n",
        "\n",
        "  return [v1[i] - v2[i] for i in range(len(v1))]\n",
        "\n",
        "\n",
        "## Test case 1: If two vectors are having equal size\n",
        "resultVector = VectorAddition(array1, array2)\n",
        "print(\"Test Case 1:\")\n",
        "if resultVector is not None:\n",
        "  print(f\"Addition of two vectors:  {resultVector}\")\n",
        "\n",
        "resultVector = VectorSubtraction(array1, array2)\n",
        "if resultVector is not None:\n",
        "  print(f\"Subtraction of two vectors:  {resultVector}\")\n",
        "\n",
        "\n",
        "## Test case 2: If two vectors are having different sizes\n",
        "print(\"Test Case 2:\")\n",
        "resultVector = VectorAddition(array1, [8,9])\n",
        "if resultVector is not None:\n",
        "  print(f\"Addition of two vectors:  {resultVector}\")\n",
        "\n",
        "resultVector = VectorSubtraction(array1, [8,9])\n",
        "if resultVector is not None:\n",
        "  print(f\"Subtraction of two vectors:  {resultVector}\")"
      ],
      "metadata": {
        "colab": {
          "base_uri": "https://localhost:8080/"
        },
        "id": "7p6IFukXy7L9",
        "outputId": "d30780cb-39cc-4895-e7b2-a18eb666b8ed"
      },
      "execution_count": 3,
      "outputs": [
        {
          "output_type": "stream",
          "name": "stdout",
          "text": [
            "Test Case 1:\n",
            "Addition of two vectors:  [5, 7, 9]\n",
            "Subtraction of two vectors:  [-3, -3, -3]\n",
            "Test Case 2:\n",
            "Vectors must have the same length\n",
            "Vectors must have the same length\n"
          ]
        }
      ]
    },
    {
      "cell_type": "markdown",
      "source": [
        "Task - The dot product of two vectors of length n. Check vectors of the same size are passed.\n",
        "\n",
        "Approach - Verify if both the vectors are of same size. If not, then the operations cannot be performed. Then iterate both the vectors parallely and multiply element-wise."
      ],
      "metadata": {
        "id": "g3q3oRuCz8qq"
      }
    },
    {
      "cell_type": "code",
      "source": [
        "def DotProduct(v1, v2):\n",
        "\n",
        "  if not isEqualVectorSize(v1,v2):\n",
        "    return None\n",
        "\n",
        "  return sum([v1[i] * v2[i] for i in range(len(v1))])\n",
        "\n",
        "\n",
        "## Test case 1: If both the vectors are equal\n",
        "print(\"Test Case 1:\")\n",
        "resultVector = DotProduct(array1, array2)\n",
        "if resultVector is not None:\n",
        "  print(f\"Dot product of two vectors:  {resultVector}\")\n",
        "else:\n",
        "  inValidVectorLength()\n",
        "\n",
        "## Test case 2: If both the vectors are not equal\n",
        "print(\"Test Case 2:\")\n",
        "resultVector = DotProduct(array1, [8,9])\n",
        "if resultVector is not None:\n",
        "  print(f\"Dot product of two vectors:  {resultVector}\")\n",
        "else:\n",
        "  inValidVectorLength()\n"
      ],
      "metadata": {
        "colab": {
          "base_uri": "https://localhost:8080/"
        },
        "id": "Z8y9CLNj0B6S",
        "outputId": "1319c49f-1ca2-4bfe-9a5c-c760db4e242a"
      },
      "execution_count": 4,
      "outputs": [
        {
          "output_type": "stream",
          "name": "stdout",
          "text": [
            "Test Case 1:\n",
            "Dot product of two vectors:  32\n",
            "Test Case 2:\n",
            "Vectors must have the same length\n"
          ]
        }
      ]
    },
    {
      "cell_type": "markdown",
      "source": [
        "Task - The cross product, which is defined for 3D-vectors. Check vectors of the correct size are passed.\n",
        "\n",
        "Approach - Check if both the vectors are of 3x3 Matrix. Use the Cross Product Formula"
      ],
      "metadata": {
        "id": "MthtRKrQ0Isu"
      }
    },
    {
      "cell_type": "code",
      "source": [
        "def CrossProduct(v1, v2):\n",
        "    # Check if both vectors are 3D vectors\n",
        "    if len(v1) != 3 or len(v2) != 3:\n",
        "        print(\"Both vectors must be 3-dimensional.\")\n",
        "        return None\n",
        "\n",
        "    return [v1[1]*v2[2] - v1[2]*v2[1],\n",
        "            v1[2]*v2[0] - v1[0]*v2[2],\n",
        "            v1[0]*v2[1] - v1[1]*v2[0]]\n",
        "\n",
        "def ResultVector(resultVector):\n",
        "  if resultVector is not None:\n",
        "    print(f\"Cross product of two vectors:  {resultVector}\")\n",
        "  else:\n",
        "    inValidVectorLength()\n",
        "\n",
        "## Test case 1: If both the vectors are equal\n",
        "print(\"Test Case 1:\")\n",
        "resultVector = CrossProduct(array1, array2)\n",
        "ResultVector(resultVector)\n",
        "\n",
        "## Test case 1: If both the vectors are not equal\n",
        "print(\"Test Case 2:\")\n",
        "resultVector = CrossProduct(array1, [8,9])\n",
        "ResultVector(resultVector)"
      ],
      "metadata": {
        "colab": {
          "base_uri": "https://localhost:8080/"
        },
        "id": "uvMLJRSv0NAr",
        "outputId": "e37c73e6-5368-4733-8359-2c803b48dfa9"
      },
      "execution_count": 5,
      "outputs": [
        {
          "output_type": "stream",
          "name": "stdout",
          "text": [
            "Test Case 1:\n",
            "Cross product of two vectors:  [-3, 6, -3]\n",
            "Test Case 2:\n",
            "Both vectors must be 3-dimensional.\n",
            "Vectors must have the same length\n"
          ]
        }
      ]
    },
    {
      "cell_type": "markdown",
      "source": [
        "Matrix Operations"
      ],
      "metadata": {
        "id": "1AYsJXVg0T-U"
      }
    },
    {
      "cell_type": "markdown",
      "source": [
        "Task - Calculate and return the size of a matrix as a 2-dimensional tuple\n",
        "\n",
        "Approach - Ensure if it is a proper matrix. Return number of rows and columns in the matrix which is the size of the matrix\n"
      ],
      "metadata": {
        "id": "uTYwFdio0VEK"
      }
    },
    {
      "cell_type": "code",
      "source": [
        "def ProperMatrix(matrix):\n",
        "    if len(matrix) == 0:\n",
        "        return False\n",
        "\n",
        "    firstRowLength = len(matrix[0])\n",
        "    for row in matrix:\n",
        "        if len(row) != firstRowLength:\n",
        "            return False\n",
        "\n",
        "    return True\n",
        "\n",
        "def MatrixSize(matrix):\n",
        "\n",
        "  if not ProperMatrix(matrix):\n",
        "    return None\n",
        "  return len(matrix), len(matrix[0])\n",
        "\n",
        "\n",
        "## Test case 1: Proper Matrix\n",
        "matrix = [[1, 2, 3],\n",
        "          [4, 5, 6] ]\n",
        "print(\"Test Case 1:\")\n",
        "size = MatrixSize(matrix)\n",
        "if size is not None:\n",
        "  print(f\"Size of the matrix is {size}\")\n",
        "else:\n",
        "  print(\"Matrix is not proper\")\n",
        "\n",
        "## Test case 2: Proper Matrix (3x3)\n",
        "matrix = [[1, 2, 3],\n",
        "          [4, 5, 6],\n",
        "          [7, 8, 9]]\n",
        "\n",
        "print(\"Test Case 2:\")\n",
        "size = MatrixSize(matrix)\n",
        "if size is not None:\n",
        "  print(f\"Size of the matrix is {size}\")\n",
        "else:\n",
        "  print(\"Matrix is not proper\")\n",
        "\n",
        "## Test case 3: Improper Matrix\n",
        "matrix = [[1, 2],\n",
        "          [3, 4, 5]]\n",
        "print(\"\\nTest Case 3:\")\n",
        "size = MatrixSize(matrix)\n",
        "if size is not None:\n",
        "  print(f\"Size of the matrix is {size}\")\n",
        "else:\n",
        "  print(\"Matrix is not proper\")"
      ],
      "metadata": {
        "colab": {
          "base_uri": "https://localhost:8080/"
        },
        "id": "gqOtszvZ0Yr4",
        "outputId": "7e508e40-cd30-4146-cb24-6170782f2600"
      },
      "execution_count": 6,
      "outputs": [
        {
          "output_type": "stream",
          "name": "stdout",
          "text": [
            "Test Case 1:\n",
            "Size of the matrix is (2, 3)\n",
            "Test Case 2:\n",
            "Size of the matrix is (3, 3)\n",
            "\n",
            "Test Case 3:\n",
            "Matrix is not proper\n"
          ]
        }
      ]
    },
    {
      "cell_type": "markdown",
      "source": [
        "Task - Sum/subtract the matrix with another matrix of suitable size. Print a suitable error message if incorrect matrix sizes are passed\n",
        "\n",
        "Approach - Use nested loops to add or subtract corresponding elements"
      ],
      "metadata": {
        "id": "-OeHqxya0d2W"
      }
    },
    {
      "cell_type": "code",
      "source": [
        "def Equal(m1, m2):\n",
        "  return MatrixSize(m1) == MatrixSize(m2)\n",
        "\n",
        "def MatrixAddition(m1, m2):\n",
        "  if not Equal(m1, m2):\n",
        "    print(\"Matrices must have similar dimensions.\")\n",
        "    return\n",
        "\n",
        "  for i in range(len(m1)):\n",
        "    for j in range(len(m1[0])):\n",
        "      m1[i][j] += m2[i][j]\n",
        "\n",
        "  return m1\n",
        "\n",
        "def MatrixSubtraction(m1, m2):\n",
        "  if not Equal(m1, m2):\n",
        "    print(\"Matrices must have similar dimensions.\")\n",
        "    return\n",
        "\n",
        "  for i in range(len(m1)):\n",
        "    for j in range(len(m1[0])):\n",
        "      m1[i][j] -= m2[i][j]\n",
        "\n",
        "  return m1\n",
        "\n",
        "# Test Case 1: Valid Matrices\n",
        "m1 = [[1, 2, 3],\n",
        "      [4, 5, 6],\n",
        "      [7, 8, 9]]\n",
        "\n",
        "m2 = [[9, 8, 7],\n",
        "     [6, 5, 3],\n",
        "     [3, 2, 1]]\n",
        "\n",
        "print(\"Test Case 1:\")\n",
        "print(MatrixAddition(m1, m2))\n",
        "print(MatrixSubtraction(m1, m2))\n",
        "\n",
        "# Test Case 2: Invalid Matrices\n",
        "m1 = [[1, 2, 3],\n",
        "     [4, 5, 6],\n",
        "     [7, 8, 9]]\n",
        "\n",
        "m2 = [[9, 8],\n",
        "     [7, 6],\n",
        "     [5, 4]]\n",
        "\n",
        "print(\"Test Case 2:\")\n",
        "MatrixAddition(m1, m2)\n",
        "MatrixSubtraction(m1, m2)"
      ],
      "metadata": {
        "colab": {
          "base_uri": "https://localhost:8080/"
        },
        "id": "bg1tUDOR0fEp",
        "outputId": "70cb9dc4-8be7-4cc5-ef7a-dc6cb2754242"
      },
      "execution_count": 7,
      "outputs": [
        {
          "output_type": "stream",
          "name": "stdout",
          "text": [
            "Test Case 1:\n",
            "[[10, 10, 10], [10, 10, 9], [10, 10, 10]]\n",
            "[[1, 2, 3], [4, 5, 6], [7, 8, 9]]\n",
            "Test Case 2:\n",
            "Matrices must have similar dimensions.\n",
            "Matrices must have similar dimensions.\n"
          ]
        }
      ]
    },
    {
      "cell_type": "markdown",
      "source": [
        "Task - Multiply the matrix with a vector of suitable size. Print a suitable error message if incorrect matrix/vector sizes are passed.\n",
        "\n",
        "Approach - Check if the number of columns in the matrix matches the size of the vector. For each row, multiply the element with the vector"
      ],
      "metadata": {
        "id": "0-mVasY10jo6"
      }
    },
    {
      "cell_type": "code",
      "source": [
        "def MatrixMultiplcationWithVector(matrix, vector):\n",
        "\n",
        "  if not ProperMatrix(matrix):\n",
        "    print(\"The matrix is not proper\")\n",
        "    return None\n",
        "\n",
        "  if len(matrix[0]) != len(vector):\n",
        "    print(\"The number of columns in the matrix must be equal to the length of the vector.\")\n",
        "    return None\n",
        "\n",
        "  result = [0] * len(matrix)\n",
        "  for i in range(len(matrix)):\n",
        "    matrix[i] = sum([matrix[i][j] * vector[j] for j in range(len(vector))])\n",
        "  return matrix\n",
        "\n",
        "## Test Case 1: Proper Dimension\n",
        "matrix = [[1, 2, 3], [4, 5, 6]]\n",
        "vector = [1, 2, 3]\n",
        "\n",
        "result = MatrixMultiplcationWithVector(matrix, vector)\n",
        "if result is not None:\n",
        "  print(result)\n",
        "\n",
        "## Test Case 1: Proper Dimension - Columns != Length of Vector\n",
        "matrix = [[1,2,3,4],\n",
        "          [5,6,7,8]]\n",
        "vector = [3,4,5]\n",
        "\n",
        "result = MatrixMultiplcationWithVector(matrix, vector)\n",
        "if result is not None:\n",
        "  print(result)"
      ],
      "metadata": {
        "colab": {
          "base_uri": "https://localhost:8080/"
        },
        "id": "u1lr31bx0mpP",
        "outputId": "91ca1ab7-ecc1-4d4f-b033-0bedfc047df9"
      },
      "execution_count": 8,
      "outputs": [
        {
          "output_type": "stream",
          "name": "stdout",
          "text": [
            "[14, 32]\n",
            "The number of columns in the matrix must be equal to the length of the vector.\n"
          ]
        }
      ]
    },
    {
      "cell_type": "markdown",
      "source": [
        "Task - Multiply the matrix with a matrix of suitable size. Print a suitable error message if incorrect matrix sizes are passed.\n",
        "\n",
        "Approach - Check if the number of columns in Matrix A matches the number of rows in Matrix B. Multiply each element in Matrix A with element in Matrix B"
      ],
      "metadata": {
        "id": "Vw4Kbg0r0s-O"
      }
    },
    {
      "cell_type": "code",
      "source": [
        "def MatrixMultiplicationWithMatrix(m1, m2):\n",
        "  if not ProperMatrix(m1) or not ProperMatrix(m2):\n",
        "    print(\"The matrix is not having proper dimensions.\")\n",
        "    return None\n",
        "\n",
        "  if MatrixSize(m1)[1] != MatrixSize(m2)[0]:\n",
        "    print(\"The number of columns in the first matrix must be equal to the number of rows in the second matrix.\")\n",
        "    return None\n",
        "\n",
        "  resultMatrix = [ [0] * len(m2[0]) for _ in range(len(m1)) ]\n",
        "  for i in range(len(m1)):\n",
        "    for j in range(len(m2[0])):\n",
        "      resultMatrix[i][j] = sum([m1[i][k] * m2[k][j] for k in range(len(m2))])\n",
        "\n",
        "  return resultMatrix\n",
        "\n",
        "## Test case 1\n",
        "print(\"Test Case 1:\")\n",
        "m1 = [[1, 2], [3, 4]]\n",
        "m2 = [[5, 6, 7], [8, 9, 10]]\n",
        "\n",
        "print(MatrixMultiplicationWithMatrix(m1, m2))\n",
        "\n",
        "## Test case 2: Columns in 1st Matrix != Rows in the 2nd Matrix\n",
        "print(\"Test Case 2:\")\n",
        "m1 = [[1, 2], [3, 4]]\n",
        "m2 = [[5, 6, 7]]\n",
        "\n",
        "print(MatrixMultiplicationWithMatrix(m1, m2))"
      ],
      "metadata": {
        "colab": {
          "base_uri": "https://localhost:8080/"
        },
        "id": "mKfe2Wsz0wxQ",
        "outputId": "12f46197-d065-466d-9e2e-2bafff9ad7b5"
      },
      "execution_count": 9,
      "outputs": [
        {
          "output_type": "stream",
          "name": "stdout",
          "text": [
            "Test Case 1:\n",
            "[[21, 24, 27], [47, 54, 61]]\n",
            "Test Case 2:\n",
            "The number of columns in the first matrix must be equal to the number of rows in the second matrix.\n",
            "None\n"
          ]
        }
      ]
    },
    {
      "cell_type": "markdown",
      "source": [
        "Task - Calculate the determinant of a 2x2 matrix. For any other matrix this function should print a suitable error message.\n",
        "\n",
        "Approach - Use the determinant formula to calculate"
      ],
      "metadata": {
        "id": "XOMTBozC01q1"
      }
    },
    {
      "cell_type": "code",
      "source": [
        "def Deteminant(matrix):\n",
        "  if MatrixSize(matrix) != (2,2):\n",
        "    print(\"Only 2x2 Matrix is allowed\")\n",
        "    return None\n",
        "\n",
        "  return matrix[0][0] * matrix[1][1] - matrix[0][1] * matrix[1][0]\n",
        "\n",
        "matrix = [[4, 5], [6, 7]]\n",
        "\n",
        "# Test case 1:\n",
        "print(\"Test Case 1:\")\n",
        "print(Deteminant(matrix))\n",
        "\n",
        "# Test case 2:\n",
        "print(\"Test Case 2:\")\n",
        "matrix = [[1, 2, 3], [4, 5, 6], [7, 8, 9]]\n",
        "Deteminant(matrix)"
      ],
      "metadata": {
        "colab": {
          "base_uri": "https://localhost:8080/"
        },
        "id": "YpmVKCzY04JG",
        "outputId": "d7a7d0f5-6007-4fdd-bc0b-40fa47d290cb"
      },
      "execution_count": 10,
      "outputs": [
        {
          "output_type": "stream",
          "name": "stdout",
          "text": [
            "Test Case 1:\n",
            "-2\n",
            "Test Case 2:\n",
            "Only 2x2 Matrix is allowed\n"
          ]
        }
      ]
    },
    {
      "cell_type": "markdown",
      "source": [
        "Task - Calculate the inverse of a 2x2 matrix.  For any other matrix this function should print a suitable error message. An error message should also be raised if the matrix is non-invertible.\n",
        "\n",
        "Approach - Find the determinant of the matrix. If the determinant is equal to zero, then it is not invertiable. Divide each element in the matrix with the determinant to find the inverse of a matrix"
      ],
      "metadata": {
        "id": "bMndwsVt07k_"
      }
    },
    {
      "cell_type": "code",
      "source": [
        "def Invertible(matrix):\n",
        "  determinant = Deteminant(matrix)\n",
        "  return determinant != 0\n",
        "\n",
        "def InverseOfMatrix(matrix):\n",
        "  if MatrixSize(matrix) != (2,2):\n",
        "    print(\"Only 2x2 Matrix is allowed\")\n",
        "    return None\n",
        "\n",
        "  if not Invertible(matrix):\n",
        "    print(\"The matrix is not invertible\")\n",
        "    return None\n",
        "\n",
        "  determinant = Deteminant(matrix)\n",
        "  return [[matrix[1][1] / determinant, -matrix[0][1] / determinant],\n",
        "          [-matrix[1][0] / determinant, matrix[0][0] / determinant]]\n",
        "\n",
        "matrix = [[4, 5], [6, 7]]\n",
        "\n",
        "# Test case 1:\n",
        "print(\"Test Case 1:\")\n",
        "print(InverseOfMatrix(matrix))\n",
        "\n",
        "# Test case 2:\n",
        "print(\"Test Case 2:\")\n",
        "matrix = [[1, 2, 3], [4, 5, 6], [7, 8, 9]]\n",
        "InverseOfMatrix(matrix)\n",
        "\n",
        "# Test case 3:\n",
        "print(\"Test Case 3:\")\n",
        "matrix = [[1, 2], [3, 4]]\n",
        "InverseOfMatrix(matrix)"
      ],
      "metadata": {
        "colab": {
          "base_uri": "https://localhost:8080/"
        },
        "id": "0jpSXxZ71ABu",
        "outputId": "ad82ae6d-afaa-4131-8b7c-ae44df33248e"
      },
      "execution_count": 11,
      "outputs": [
        {
          "output_type": "stream",
          "name": "stdout",
          "text": [
            "Test Case 1:\n",
            "[[-3.5, 2.5], [3.0, -2.0]]\n",
            "Test Case 2:\n",
            "Only 2x2 Matrix is allowed\n",
            "Test Case 3:\n"
          ]
        },
        {
          "output_type": "execute_result",
          "data": {
            "text/plain": [
              "[[-2.0, 1.0], [1.5, -0.5]]"
            ]
          },
          "metadata": {},
          "execution_count": 11
        }
      ]
    },
    {
      "cell_type": "markdown",
      "source": [],
      "metadata": {
        "id": "gCZwk_sq1BuR"
      }
    },
    {
      "cell_type": "markdown",
      "metadata": {
        "id": "XxR0Ar2XvQyH"
      },
      "source": [
        "## Discussion\n",
        "\n",
        "Provide any discussion elements"
      ]
    }
  ],
  "metadata": {
    "kernelspec": {
      "display_name": "Python 3 (ipykernel)",
      "language": "python",
      "name": "python3"
    },
    "language_info": {
      "codemirror_mode": {
        "name": "ipython",
        "version": 3
      },
      "file_extension": ".py",
      "mimetype": "text/x-python",
      "name": "python",
      "nbconvert_exporter": "python",
      "pygments_lexer": "ipython3",
      "version": "3.9.11"
    },
    "colab": {
      "provenance": []
    }
  },
  "nbformat": 4,
  "nbformat_minor": 0
}