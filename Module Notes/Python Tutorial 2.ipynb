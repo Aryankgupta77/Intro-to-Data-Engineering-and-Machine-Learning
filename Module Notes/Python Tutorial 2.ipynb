{
 "cells": [
  {
   "cell_type": "markdown",
   "metadata": {},
   "source": [
    "# Tutorial 2\n",
    "\n",
    "In this tutorial, we will cover\n",
    "* Comments\n",
    "* Variables and numbers\n",
    "* Basic Python Arithmetic\n",
    "* Lists\n",
    "* For loops\n",
    "* Booleans and if-else statements\n",
    "* Functions\n"
   ]
  },
  {
   "cell_type": "markdown",
   "metadata": {},
   "source": [
    "## Commenting"
   ]
  },
  {
   "cell_type": "code",
   "execution_count": 4,
   "metadata": {},
   "outputs": [],
   "source": [
    "# This is a comment - anything after the # symbol doesn't run\n",
    "\n",
    "a = 2    # Comments can be on the same line as code"
   ]
  },
  {
   "cell_type": "markdown",
   "metadata": {},
   "source": [
    "## Variable & Numbers\n",
    "\n",
    "Note that a variable in Python, or in general in coding, is not the same as a variable in math, so don't get confused between the two. A variable in math means that a given equation will hold true for any number that is entered. A variable in Python"
   ]
  },
  {
   "cell_type": "code",
   "execution_count": 6,
   "metadata": {},
   "outputs": [
    {
     "name": "stdout",
     "output_type": "stream",
     "text": [
      "2\n",
      "<class 'int'>\n",
      "2.23\n",
      "<class 'float'>\n"
     ]
    }
   ],
   "source": [
    "# 3 types of numbers in python: ints, floats, complex - we'll ignore complex numbers for now\n",
    "\n",
    "# integer variable\n",
    "\n",
    "# A variable is just a name in Python that we give an object - for example a number, a string, a list, \n",
    "# or more complex objects such as dictionaries\n",
    "\n",
    "a = 2\n",
    "b = -23456\n",
    "\n",
    "print(a)\n",
    "print(type(a))\n",
    "\n",
    "# float\n",
    "\n",
    "a = 2.23             # Notice that I have overwritten variable a\n",
    "b = 2.0\n",
    "\n",
    "print(a)\n",
    "print(type(a))\n",
    "\n",
    "# Note that variables can be much more complex types - to be covered later"
   ]
  },
  {
   "cell_type": "markdown",
   "metadata": {},
   "source": [
    "## Casting\n",
    "\n",
    "Casting is used to change between types"
   ]
  },
  {
   "cell_type": "code",
   "execution_count": 10,
   "metadata": {},
   "outputs": [
    {
     "name": "stdout",
     "output_type": "stream",
     "text": [
      "<class 'int'> 2\n",
      "<class 'float'> 2.0\n"
     ]
    }
   ],
   "source": [
    "# Casting is done as follows\n",
    "\n",
    "a = 2\n",
    "\n",
    "print(type(a), a)\n",
    "\n",
    "b = float(a)\n",
    "\n",
    "print(type(b), b)"
   ]
  },
  {
   "cell_type": "code",
   "execution_count": 14,
   "metadata": {},
   "outputs": [
    {
     "name": "stdout",
     "output_type": "stream",
     "text": [
      "2\n"
     ]
    }
   ],
   "source": [
    "c = 2.726\n",
    "d = int(c)\n",
    "print(d)    ## What should I expect to be the value in d?"
   ]
  },
  {
   "cell_type": "markdown",
   "metadata": {},
   "source": [
    "## Arithmatic"
   ]
  },
  {
   "cell_type": "code",
   "execution_count": 2,
   "metadata": {},
   "outputs": [
    {
     "name": "stdout",
     "output_type": "stream",
     "text": [
      "Summation: 7\n",
      "Subtraction: -1\n",
      "multiplication: 12\n",
      "Integer division: 0.75\n",
      "Integer division: 0\n"
     ]
    }
   ],
   "source": [
    "# 4 arithmatic operations in Python that do exactly as you might expect\n",
    "\n",
    "a = 3\n",
    "b = 4\n",
    "\n",
    "print(\"Summation:\", a + b)   # Summation\n",
    "print(\"Subtraction:\", a - b)   # Subtraction\n",
    "print(\"Multiplication:\", a * b)   # multiplication\n",
    "print(\"Division:\", a / b)   # Integer division - raises the result automatically to a float\n",
    "print(\"Integer division:\", a // b)   # Keep it as a integer!"
   ]
  },
  {
   "cell_type": "code",
   "execution_count": 3,
   "metadata": {},
   "outputs": [
    {
     "name": "stdout",
     "output_type": "stream",
     "text": [
      "Summation: 6.03\n",
      "Subtraction: -0.6299999999999999\n",
      "multiplication: 8.991000000000001\n",
      "Division: 0.8108108108108109\n",
      "Division: 0.0\n",
      "Negation: -2.7\n"
     ]
    }
   ],
   "source": [
    "# Floating point arithmatic\n",
    "\n",
    "a = 2.7\n",
    "b = 3.33\n",
    "\n",
    "print(\"Summation:\", a + b)   # Summation\n",
    "print(\"Subtraction:\", a - b)   # Subtraction\n",
    "print(\"multiplication:\", a * b)   # multiplication\n",
    "print(\"Division:\", a / b)   # Division\n",
    "print(\"Integer Division:\", a // b)   # Division\n",
    "\n",
    "print(\"Negation:\", -a)"
   ]
  },
  {
   "cell_type": "code",
   "execution_count": 55,
   "metadata": {},
   "outputs": [
    {
     "name": "stdout",
     "output_type": "stream",
     "text": [
      "2.6198039215686277\n",
      "9.847862745098041\n"
     ]
    }
   ],
   "source": [
    "# Combining arithmetic operations on one line\n",
    "a = 2.7\n",
    "b = 3.33\n",
    "c = 4.37\n",
    "d = 5.1\n",
    "\n",
    "# Remember PEMDAS! Use brackets wisely\n",
    "e = (a*b + c) / d\n",
    "f = a*b + c / d\n",
    "\n",
    "print(e)\n",
    "print(f)"
   ]
  },
  {
   "cell_type": "code",
   "execution_count": 56,
   "metadata": {},
   "outputs": [
    {
     "name": "stdout",
     "output_type": "stream",
     "text": [
      "5.289999999999999\n"
     ]
    }
   ],
   "source": [
    "# Exponentiation\n",
    "a = 2.3\n",
    "b = 2\n",
    "\n",
    "print(a**b)"
   ]
  },
  {
   "cell_type": "code",
   "execution_count": 67,
   "metadata": {},
   "outputs": [
    {
     "ename": "ZeroDivisionError",
     "evalue": "float division by zero",
     "output_type": "error",
     "traceback": [
      "\u001b[1;31m---------------------------------------------------------------------------\u001b[0m",
      "\u001b[1;31mZeroDivisionError\u001b[0m                         Traceback (most recent call last)",
      "\u001b[1;32m<ipython-input-67-d74397992b72>\u001b[0m in \u001b[0;36m<module>\u001b[1;34m\u001b[0m\n\u001b[0;32m      2\u001b[0m \u001b[0ma\u001b[0m \u001b[1;33m=\u001b[0m \u001b[1;36m10\u001b[0m\u001b[1;33m\u001b[0m\u001b[1;33m\u001b[0m\u001b[0m\n\u001b[0;32m      3\u001b[0m \u001b[0mb\u001b[0m \u001b[1;33m=\u001b[0m \u001b[1;36m0.0\u001b[0m\u001b[1;33m\u001b[0m\u001b[1;33m\u001b[0m\u001b[0m\n\u001b[1;32m----> 4\u001b[1;33m \u001b[0ma\u001b[0m\u001b[1;33m/\u001b[0m\u001b[0mb\u001b[0m\u001b[1;33m\u001b[0m\u001b[1;33m\u001b[0m\u001b[0m\n\u001b[0m",
      "\u001b[1;31mZeroDivisionError\u001b[0m: float division by zero"
     ]
    }
   ],
   "source": [
    "# Divide by zero?\n",
    "a = 10\n",
    "b = 0.0\n",
    "a/b"
   ]
  },
  {
   "cell_type": "markdown",
   "metadata": {},
   "source": [
    "## Lists\n",
    "\n",
    "I'm going to skip sets and tuples for now. If you understand lists, you will get sets and tuples with no problem.\n",
    "\n",
    "A list is, as it says on the tin, a way to store a list of objects.\n"
   ]
  },
  {
   "cell_type": "code",
   "execution_count": 19,
   "metadata": {},
   "outputs": [
    {
     "name": "stdout",
     "output_type": "stream",
     "text": [
      "['a', 1, 3.1415926]\n",
      "a\n",
      "1\n",
      "3.1415926\n"
     ]
    }
   ],
   "source": [
    "a = ['a', 1, 3.1415926]      # A list is defined using the square bracket. A list can consist of any objects\n",
    "print(a)\n",
    "\n",
    "print(a[0])          # Accessing a given value by using square brackets again\n",
    "print(a[1])          # Numbering starts at 0 - common in most programming language, but mathematicians hate it :)\n",
    "print(a[2])"
   ]
  },
  {
   "cell_type": "code",
   "execution_count": 22,
   "metadata": {},
   "outputs": [
    {
     "name": "stdout",
     "output_type": "stream",
     "text": [
      "3.1415926\n",
      "2\n"
     ]
    }
   ],
   "source": [
    "# Negative indexing?\n",
    "print(a[-1])\n",
    "print(a[-2])        # Huh, what happens here?"
   ]
  },
  {
   "cell_type": "code",
   "execution_count": 23,
   "metadata": {},
   "outputs": [
    {
     "name": "stdout",
     "output_type": "stream",
     "text": [
      "['a', 2, 3.1415926]\n"
     ]
    }
   ],
   "source": [
    "# You can also set elements of a list through this notation\n",
    "a[1] = 2\n",
    "print(a)"
   ]
  },
  {
   "cell_type": "code",
   "execution_count": 24,
   "metadata": {},
   "outputs": [
    {
     "name": "stdout",
     "output_type": "stream",
     "text": [
      "['a', 2, 3.1415926, 'Apples']\n"
     ]
    }
   ],
   "source": [
    "# And you can extend the size of a list using the append function\n",
    "a.append(\"Apples\")\n",
    "print(a)"
   ]
  },
  {
   "cell_type": "code",
   "execution_count": 27,
   "metadata": {},
   "outputs": [
    {
     "name": "stdout",
     "output_type": "stream",
     "text": [
      "[2, 3.1415926]\n"
     ]
    }
   ],
   "source": [
    "# List slicing\n",
    "print(a[1:3])      # Between the two indices, including the first but not including the latter"
   ]
  },
  {
   "cell_type": "code",
   "execution_count": 28,
   "metadata": {},
   "outputs": [
    {
     "name": "stdout",
     "output_type": "stream",
     "text": [
      "[2, 3.1415926, 'Apples']\n"
     ]
    }
   ],
   "source": [
    "print(a[1:])     # Start at index 1 to the end"
   ]
  },
  {
   "cell_type": "code",
   "execution_count": 31,
   "metadata": {},
   "outputs": [
    {
     "name": "stdout",
     "output_type": "stream",
     "text": [
      "['a', 1.23, 3, [1, 2], ['a', 2, 3.1415926, 'Apples']]\n"
     ]
    }
   ],
   "source": [
    "# A list can be included as an element in a list\n",
    "b = ['a', 1.23, 3, [1,2], a]        # Notice I'm using the previously defined variable a here?\n",
    "print(b)"
   ]
  },
  {
   "cell_type": "code",
   "execution_count": 36,
   "metadata": {},
   "outputs": [
    {
     "name": "stdout",
     "output_type": "stream",
     "text": [
      "[[1, 2, 3], [3, 4, 5], [5, 6, 7]]\n"
     ]
    }
   ],
   "source": [
    "##### So a list, if we restrict it to numbers, could be used to store a linear algebra matrix?\n",
    "\n",
    "M = [[1,2,3],[3,4,5],[5,6,7]]           # 3x3 matrix\n",
    "print(M)"
   ]
  },
  {
   "cell_type": "code",
   "execution_count": 47,
   "metadata": {},
   "outputs": [
    {
     "name": "stdout",
     "output_type": "stream",
     "text": [
      "4\n",
      "[1, 2, 3]\n",
      "[1, 2]\n"
     ]
    }
   ],
   "source": [
    "# And we can access it using the double accessor notation\n",
    "print(M[1][1])        # Element in Second row, second column\n",
    "print(M[0][0:3])      # First row\n",
    "print(M[0][0:2])\n"
   ]
  },
  {
   "cell_type": "code",
   "execution_count": 51,
   "metadata": {},
   "outputs": [
    {
     "name": "stdout",
     "output_type": "stream",
     "text": [
      "[1, 2, 3]\n",
      "[3, 4, 5]\n",
      "[1, 2, 3, 3, 4, 5]\n",
      "[1, 2, 3, 'aa', 'bbb', 'cccc']\n"
     ]
    }
   ],
   "source": [
    "# Joining lists with +\n",
    "a = [1, 2, 3]\n",
    "b = [3, 4, 5]\n",
    "\n",
    "print(a)\n",
    "print(b)\n",
    "print(a + b)        \n",
    "\n",
    "# Note it does not do an element-wise addition, because we may not know what addition is for a given element\n",
    "b = [\"aa\",\"bbb\",\"cccc\"]\n",
    "print(a + b)"
   ]
  },
  {
   "cell_type": "code",
   "execution_count": 54,
   "metadata": {},
   "outputs": [
    {
     "name": "stdout",
     "output_type": "stream",
     "text": [
      "6\n"
     ]
    }
   ],
   "source": [
    "# Finally, the length of a list\n",
    "\n",
    "print(len(a + b))"
   ]
  },
  {
   "cell_type": "markdown",
   "metadata": {},
   "source": [
    "#### We will not cover list comprehensions, they are not really needed in the e-tivities. We can learn them later"
   ]
  },
  {
   "cell_type": "markdown",
   "metadata": {},
   "source": [
    "## For loops\n",
    "\n",
    "A for loop will iterate over the elements in a list (or other iterable object), assigning each element iteratively to a variable."
   ]
  },
  {
   "cell_type": "code",
   "execution_count": 60,
   "metadata": {},
   "outputs": [
    {
     "name": "stdout",
     "output_type": "stream",
     "text": [
      "1\n",
      "2\n",
      "3\n",
      "[1, 2]\n",
      "bbbb\n"
     ]
    }
   ],
   "source": [
    "L = [1,2,3,[1,2],\"bbbb\"]    # Some aribtrary list\n",
    "\n",
    "for c in L:                 # For loop iterates over the list, in each iteration assigning the next value in L to c\n",
    "    print(c)"
   ]
  },
  {
   "cell_type": "code",
   "execution_count": 61,
   "metadata": {},
   "outputs": [
    {
     "name": "stdout",
     "output_type": "stream",
     "text": [
      "0 'th element is  1\n",
      "1 'th element is  2\n",
      "2 'th element is  3\n",
      "3 'th element is  [1, 2]\n",
      "4 'th element is  bbbb\n"
     ]
    }
   ],
   "source": [
    "for i in range(0,len(L)):\n",
    "    print(i, \"'th element is \", L[i])"
   ]
  },
  {
   "cell_type": "code",
   "execution_count": 62,
   "metadata": {},
   "outputs": [
    {
     "name": "stdout",
     "output_type": "stream",
     "text": [
      "0 'th element is  1\n",
      "1 'th element is  2\n",
      "2 'th element is  3\n",
      "3 'th element is  [1, 2]\n",
      "4 'th element is  bbbb\n"
     ]
    }
   ],
   "source": [
    "for (i, c) in enumerate(L):\n",
    "    print(i, \"'th element is \", c)"
   ]
  },
  {
   "cell_type": "code",
   "execution_count": 64,
   "metadata": {},
   "outputs": [
    {
     "name": "stdout",
     "output_type": "stream",
     "text": [
      "1\n",
      "3\n",
      "6\n",
      "10\n",
      "15\n",
      "15\n"
     ]
    }
   ],
   "source": [
    "# Accumulating some values in a loop\n",
    "\n",
    "L = [1, 2, 3, 4, 5]\n",
    "\n",
    "sm = 0 \n",
    "\n",
    "for c in L:\n",
    "    sm = sm + c\n",
    "    print(sm)\n",
    "    \n",
    "print(sm)"
   ]
  },
  {
   "cell_type": "code",
   "execution_count": 65,
   "metadata": {},
   "outputs": [
    {
     "name": "stdout",
     "output_type": "stream",
     "text": [
      "0\n",
      "2\n",
      "6\n",
      "12\n",
      "20\n"
     ]
    }
   ],
   "source": [
    "# Now suppose I want to, oh for some reason, multiply each number by it's position in the list?\n",
    "L = [1, 2, 3, 4, 5]\n",
    "\n",
    "for i in range(0,len(L)):        # Note the colon and the indentation (code block)\n",
    "    g = i*L[i]\n",
    "    print(g)"
   ]
  },
  {
   "cell_type": "code",
   "execution_count": 66,
   "metadata": {},
   "outputs": [
    {
     "name": "stdout",
     "output_type": "stream",
     "text": [
      "40\n"
     ]
    }
   ],
   "source": [
    "# Now suppose I want to, oh for some reason, multiply each number by it's position in the list, and accumulate the results?\n",
    "L = [1, 2, 3, 4, 5]\n",
    "\n",
    "sm = 0      # Assign some initial value\n",
    "\n",
    "for i in range(0,len(L)):\n",
    "    g = i*L[i]\n",
    "    sm += g                  # Shorthand for sm = sm + g\n",
    "\n",
    "print(sm)"
   ]
  },
  {
   "cell_type": "markdown",
   "metadata": {},
   "source": [
    "#### Think about polynomials ... do you get where I'm going with this?"
   ]
  },
  {
   "cell_type": "markdown",
   "metadata": {},
   "source": [
    "## Embedded for loops"
   ]
  },
  {
   "cell_type": "code",
   "execution_count": 145,
   "metadata": {},
   "outputs": [],
   "source": [
    "# Remember earliee we had an two dimensional list\n",
    "\n",
    "def printRowWise(A):\n",
    "    for row in A:\n",
    "        for e in row:\n",
    "            print(e)"
   ]
  },
  {
   "cell_type": "code",
   "execution_count": 146,
   "metadata": {},
   "outputs": [
    {
     "name": "stdout",
     "output_type": "stream",
     "text": [
      "1\n",
      "2\n",
      "3\n",
      "3\n",
      "4\n",
      "5\n",
      "5\n",
      "6\n",
      "7\n"
     ]
    }
   ],
   "source": [
    "M = [[1,2,3],\n",
    "     [3,4,5],\n",
    "     [5,6,7]]\n",
    "\n",
    "embForLoop1(M)"
   ]
  },
  {
   "cell_type": "code",
   "execution_count": 147,
   "metadata": {},
   "outputs": [],
   "source": [
    "# Bit more difficult\n",
    "# Hierarchy of structure\n",
    "# overall list -> row list -> element\n",
    "\n",
    "\n",
    "def printColumnWise(A):\n",
    "    nRows = len(A)\n",
    "    nCols = len(A[0]) # Assumes each row is the same length\n",
    "    \n",
    "    for c in range(0,nCols):\n",
    "        for r in range(0,nRows):\n",
    "            print(A[r][c])"
   ]
  },
  {
   "cell_type": "code",
   "execution_count": 148,
   "metadata": {},
   "outputs": [
    {
     "name": "stdout",
     "output_type": "stream",
     "text": [
      "1\n",
      "3\n",
      "5\n",
      "2\n",
      "4\n",
      "6\n",
      "3\n",
      "5\n",
      "7\n"
     ]
    }
   ],
   "source": [
    "M = [[1,2,3],\n",
    "     [3,4,5],\n",
    "     [5,6,7]]\n",
    "\n",
    "printColumnWise(M)"
   ]
  },
  {
   "cell_type": "markdown",
   "metadata": {},
   "source": [
    "## Functions\n",
    "\n",
    "For all of our purposes, we can consider functions are a handy way to reuse code\n",
    "\n",
    "We have already been using functions ---- print()"
   ]
  },
  {
   "cell_type": "code",
   "execution_count": 71,
   "metadata": {},
   "outputs": [
    {
     "name": "stdout",
     "output_type": "stream",
     "text": [
      "3\n",
      "4\n",
      "5\n",
      "6\n"
     ]
    }
   ],
   "source": [
    "# Let's look what a function looks like\n",
    "\n",
    "def addTwoNumbers(a, b):              # Definition, with a variables a and b as input\n",
    "    return a + b                      # Doesn't have to, but can return a value\n",
    "\n",
    "c = addTwoNumbers(1,2)\n",
    "d = addTwoNumbers(2,2)\n",
    "\n",
    "print(c)\n",
    "print(d)\n",
    "\n",
    "print(addTwoNumbers(3,2))    # You can compose two or more function -- though be careful, it can become unreadable\n",
    "print(addTwoNumbers(4,2))\n",
    "\n",
    "# Note that I've only defined the function once, but used it many time"
   ]
  },
  {
   "cell_type": "code",
   "execution_count": 72,
   "metadata": {},
   "outputs": [],
   "source": [
    "# Now let's get a little bit more complex\n",
    "\n",
    "# Function to sum elements of a list\n",
    "\n",
    "def listSum(L):\n",
    "    ret = 0\n",
    "    \n",
    "    for e in L:\n",
    "        ret += e\n",
    "    \n",
    "    return ret"
   ]
  },
  {
   "cell_type": "code",
   "execution_count": 77,
   "metadata": {},
   "outputs": [
    {
     "name": "stdout",
     "output_type": "stream",
     "text": [
      "30\n"
     ]
    }
   ],
   "source": [
    "L1 = [1,2,3,7,8,9]\n",
    "\n",
    "sm1 = listSum(L1)\n",
    "print(sm1)"
   ]
  },
  {
   "cell_type": "code",
   "execution_count": 78,
   "metadata": {},
   "outputs": [
    {
     "name": "stdout",
     "output_type": "stream",
     "text": [
      "44\n"
     ]
    }
   ],
   "source": [
    "L2 = [4,2,6,7,16,9]\n",
    "\n",
    "sm2 = listSum(L2)\n",
    "print(sm2)"
   ]
  },
  {
   "cell_type": "code",
   "execution_count": null,
   "metadata": {},
   "outputs": [],
   "source": [
    "# There is no type checking though....\n",
    "L3 = [2,3,4,5,'a']\n",
    "sm3 = listSum(L3)\n",
    "print(sm3)"
   ]
  },
  {
   "cell_type": "code",
   "execution_count": null,
   "metadata": {},
   "outputs": [],
   "source": [
    "L4 = 33.333\n",
    "print(listSum(L4))"
   ]
  },
  {
   "cell_type": "code",
   "execution_count": 116,
   "metadata": {},
   "outputs": [
    {
     "name": "stdout",
     "output_type": "stream",
     "text": [
      "Why am I even here?\n"
     ]
    }
   ],
   "source": [
    "# Function with no inputs or outputs\n",
    "\n",
    "def nothing():\n",
    "    print(\"Why am I even here?\")\n",
    "    \n",
    "\n",
    "nothing()"
   ]
  },
  {
   "cell_type": "markdown",
   "metadata": {},
   "source": [
    "### Multiple inputs, return a list"
   ]
  },
  {
   "cell_type": "code",
   "execution_count": 86,
   "metadata": {},
   "outputs": [],
   "source": [
    "# We want to pass two lists, and return a list that contains the element-wise summation of the two lists\n",
    "\n",
    "def elementSum(L1, L2):\n",
    "    ret = []      # start with empty list\n",
    "    \n",
    "    for i in range(0,len(L1)):\n",
    "        ret.append(L1[i] + L2[i])\n",
    "\n",
    "    # Note the lack of error checking. What could go wrong here?\n",
    "    # What if my two lists are not the same size? What is L1 is longer than L2 in particular?\n",
    "    \n",
    "    return ret"
   ]
  },
  {
   "cell_type": "code",
   "execution_count": 87,
   "metadata": {},
   "outputs": [
    {
     "name": "stdout",
     "output_type": "stream",
     "text": [
      "[2, 5, 8, 11, 14]\n"
     ]
    }
   ],
   "source": [
    "list1 = [1, 2, 3, 4, 5]\n",
    "list2 = [1, 3, 5, 7, 9]\n",
    "\n",
    "list3 = elementSum(list1, list2)\n",
    "print(list3)"
   ]
  },
  {
   "cell_type": "code",
   "execution_count": 88,
   "metadata": {},
   "outputs": [
    {
     "name": "stdout",
     "output_type": "stream",
     "text": [
      "[7, 12, 17, 21, 25]\n"
     ]
    }
   ],
   "source": [
    "list4 = [5, 7, 9, 10, 11]\n",
    "list5 = elementSum(list3, list4)      # Can pass the output of a previous function as an input of this function\n",
    "print(list5)"
   ]
  },
  {
   "cell_type": "code",
   "execution_count": 89,
   "metadata": {},
   "outputs": [
    {
     "name": "stdout",
     "output_type": "stream",
     "text": [
      "[2, 4, 6, 8, 10]\n"
     ]
    }
   ],
   "source": [
    "list6 = elementSum(list1, list1)      # Same variable passed twice\n",
    "print(list6)"
   ]
  },
  {
   "cell_type": "markdown",
   "metadata": {},
   "source": [
    "## Booleans and if-elif-else"
   ]
  },
  {
   "cell_type": "code",
   "execution_count": 90,
   "metadata": {},
   "outputs": [
    {
     "name": "stdout",
     "output_type": "stream",
     "text": [
      "True\n",
      "False\n"
     ]
    }
   ],
   "source": [
    "# Boolean is True or False\n",
    "\n",
    "a = True\n",
    "\n",
    "print(a)\n",
    "\n",
    "b = False\n",
    "\n",
    "print(b)"
   ]
  },
  {
   "cell_type": "code",
   "execution_count": 91,
   "metadata": {},
   "outputs": [],
   "source": [
    "# Common comparison operators\n",
    "a = 3\n",
    "b = 6"
   ]
  },
  {
   "cell_type": "code",
   "execution_count": 96,
   "metadata": {},
   "outputs": [
    {
     "name": "stdout",
     "output_type": "stream",
     "text": [
      "False\n",
      "<class 'bool'>\n"
     ]
    }
   ],
   "source": [
    "c = a == b\n",
    "print(c)\n",
    "print(type(c))"
   ]
  },
  {
   "cell_type": "code",
   "execution_count": 97,
   "metadata": {},
   "outputs": [
    {
     "name": "stdout",
     "output_type": "stream",
     "text": [
      "True\n"
     ]
    }
   ],
   "source": [
    "print(a != b)     # Not equal"
   ]
  },
  {
   "cell_type": "code",
   "execution_count": 98,
   "metadata": {},
   "outputs": [
    {
     "name": "stdout",
     "output_type": "stream",
     "text": [
      "True\n",
      "False\n",
      "True\n",
      "False\n"
     ]
    }
   ],
   "source": [
    "print(a < b)\n",
    "print(a > b)\n",
    "print(a <= b)\n",
    "print(a >= b)"
   ]
  },
  {
   "cell_type": "code",
   "execution_count": 103,
   "metadata": {},
   "outputs": [
    {
     "name": "stdout",
     "output_type": "stream",
     "text": [
      "5 is less than 10\n"
     ]
    }
   ],
   "source": [
    "d = 5\n",
    "\n",
    "if d < 10:          # if this evaluates to True\n",
    "    print(d, \"is less than 10\")\n",
    "else:\n",
    "    print(d, \"is not less than 10\")"
   ]
  },
  {
   "cell_type": "code",
   "execution_count": 112,
   "metadata": {},
   "outputs": [],
   "source": [
    "d = 3\n",
    "\n",
    "if d == 1:          # if this evaluates to True\n",
    "    print(\"one\")\n",
    "elif d == 2:\n",
    "    print(\"two\")\n",
    "else:\n",
    "    print(\"neither one nor two\")"
   ]
  },
  {
   "cell_type": "code",
   "execution_count": null,
   "metadata": {},
   "outputs": [],
   "source": [
    "# what happens here?\n",
    "\n",
    "d = 3\n",
    "\n",
    "if d == 1:\n",
    "    print(\"one\")\n",
    "elif d == 2:\n",
    "    print(\"two\")\n",
    "    \n",
    "# Precisely nothing - neither branch is run"
   ]
  },
  {
   "cell_type": "code",
   "execution_count": 107,
   "metadata": {},
   "outputs": [
    {
     "name": "stdout",
     "output_type": "stream",
     "text": [
      "9 is less than 10\n"
     ]
    }
   ],
   "source": [
    "d = 9\n",
    "\n",
    "if d < 10:                            # If d is less than 10, it goes in here and then in none of the other branches\n",
    "    print(d, \"is less than 10\")\n",
    "elif d < 20:\n",
    "    print(d, \"is between 10 and 20\")\n",
    "else:\n",
    "    print(d, \"is not less than 20\")"
   ]
  },
  {
   "cell_type": "code",
   "execution_count": 113,
   "metadata": {},
   "outputs": [],
   "source": [
    "# Let's do a function to sum all elements in a list of integers whose elements have an abolsute value less than 5\n",
    "\n",
    "def sumLt5(L):\n",
    "    ret = 0\n",
    "    \n",
    "    for e in L:\n",
    "        if e < 5 and e > -5:        # Note the and operator?\n",
    "            ret += e\n",
    "\n",
    "    return ret"
   ]
  },
  {
   "cell_type": "code",
   "execution_count": 119,
   "metadata": {},
   "outputs": [
    {
     "name": "stdout",
     "output_type": "stream",
     "text": [
      "4\n"
     ]
    }
   ],
   "source": [
    "L1 = [1,6,3,6,5,6,7,8]\n",
    "\n",
    "sm = sumLt5(L1)\n",
    "\n",
    "print(sm)"
   ]
  },
  {
   "cell_type": "code",
   "execution_count": 122,
   "metadata": {},
   "outputs": [],
   "source": [
    "# Let's do a function to sum all elements in a list of integers whose elements have an abolsute value greater than than 5\n",
    "\n",
    "def sumGt5(L):\n",
    "    ret = 0\n",
    "    \n",
    "    for e in L:\n",
    "        if e > 5 or e < -5:        # Note the or operator?   |a| > 5 ====> a > 5 or a < -5\n",
    "            ret += e\n",
    "\n",
    "    return ret"
   ]
  },
  {
   "cell_type": "code",
   "execution_count": 123,
   "metadata": {},
   "outputs": [
    {
     "name": "stdout",
     "output_type": "stream",
     "text": [
      "33\n"
     ]
    }
   ],
   "source": [
    "L1 = [1,6,3,6,5,6,7,8]\n",
    "\n",
    "sm = sumGt5(L1)\n",
    "\n",
    "print(sm)"
   ]
  }
 ],
 "metadata": {
  "kernelspec": {
   "display_name": "Python 3",
   "language": "python",
   "name": "python3"
  },
  "language_info": {
   "codemirror_mode": {
    "name": "ipython",
    "version": 3
   },
   "file_extension": ".py",
   "mimetype": "text/x-python",
   "name": "python",
   "nbconvert_exporter": "python",
   "pygments_lexer": "ipython3",
   "version": "3.8.3"
  }
 },
 "nbformat": 4,
 "nbformat_minor": 4
}
