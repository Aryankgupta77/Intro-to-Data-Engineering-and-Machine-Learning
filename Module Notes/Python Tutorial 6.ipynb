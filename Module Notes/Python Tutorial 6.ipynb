{
 "cells": [
  {
   "cell_type": "markdown",
   "metadata": {},
   "source": [
    "# Tutorial 6\n",
    "\n",
    "In this tutorial, we will cover:\n",
    "* Zip\n",
    "* Dictionaries\n",
    "* One line procedures"
   ]
  },
  {
   "cell_type": "markdown",
   "metadata": {},
   "source": [
    "### Zip\n",
    "\n",
    "A zip is constructed from other collections all of the same length. Each element of the zip is a tuple consisting of one element from each of the input collections."
   ]
  },
  {
   "cell_type": "code",
   "execution_count": 2,
   "metadata": {},
   "outputs": [
    {
     "data": {
      "text/plain": [
       "[(1, 2), (3, 4), (5, 6)]"
      ]
     },
     "execution_count": 2,
     "metadata": {},
     "output_type": "execute_result"
    }
   ],
   "source": [
    "list(zip([1,3,5],[2,4,6]))"
   ]
  },
  {
   "cell_type": "code",
   "execution_count": 54,
   "metadata": {},
   "outputs": [
    {
     "data": {
      "text/plain": [
       "{('Morpheus', 'Laurence'), ('Neo', 'Keanu'), ('Trinity', 'Carrie-Anne')}"
      ]
     },
     "execution_count": 54,
     "metadata": {},
     "output_type": "execute_result"
    }
   ],
   "source": [
    "characters = ['Neo', 'Morpheus', 'Trinity']\n",
    "actors = ['Keanu', 'Laurence', 'Carrie-Anne']\n",
    "set(zip(characters, actors))\n"
   ]
  },
  {
   "cell_type": "code",
   "execution_count": 55,
   "metadata": {},
   "outputs": [
    {
     "data": {
      "text/plain": [
       "['Neo is played by Keanu',\n",
       " 'Morpheus is played by Laurence',\n",
       " 'Trinity is played by Carrie-Anne']"
      ]
     },
     "execution_count": 55,
     "metadata": {},
     "output_type": "execute_result"
    }
   ],
   "source": [
    "[character+' is played by '+actor for (character,actor) in zip(characters,actors)]"
   ]
  },
  {
   "cell_type": "markdown",
   "metadata": {},
   "source": [
    "###### Task\n",
    "\n",
    "Assign to `L` the list consisting of the first five letters `['A','B','C','D','E']`. Next, use L in an expression whose value is `[(0, ’A’), (1, ’B’), (2, ’C’), (3, ’D’), (4, ’E’)]`. Your expression should use a range and a zip, but should not use a comprehension.\n"
   ]
  },
  {
   "cell_type": "code",
   "execution_count": 56,
   "metadata": {},
   "outputs": [
    {
     "data": {
      "text/plain": [
       "[(0, 'A'), (1, 'B'), (2, 'C'), (3, 'D'), (4, 'E')]"
      ]
     },
     "execution_count": 56,
     "metadata": {},
     "output_type": "execute_result"
    }
   ],
   "source": [
    "L = ['A','B','C','D','E']\n",
    "\n",
    "list(zip(range(len(L)),L))"
   ]
  },
  {
   "cell_type": "markdown",
   "metadata": {},
   "source": [
    "###### Task\n",
    "\n",
    "Starting from the lists `[10, 25, 40]` and `[1, 15, 20]`, write a comprehension whose value is the three-element list in which the first element is the sum of 10 and 1, the second is the sum of 25 and 15, and the third is the sum of 40 and 20. Your expression should use zip but not list."
   ]
  },
  {
   "cell_type": "code",
   "execution_count": 57,
   "metadata": {},
   "outputs": [
    {
     "data": {
      "text/plain": [
       "[11, 40, 60]"
      ]
     },
     "execution_count": 57,
     "metadata": {},
     "output_type": "execute_result"
    }
   ],
   "source": [
    "[x+y for (x,y) in zip([10, 25, 40],[1, 15, 20])]"
   ]
  },
  {
   "cell_type": "markdown",
   "metadata": {},
   "source": [
    "###### Task\n",
    "\n",
    "Implement vector dot product using list comprehensions."
   ]
  },
  {
   "cell_type": "code",
   "execution_count": 58,
   "metadata": {},
   "outputs": [
    {
     "data": {
      "text/plain": [
       "20"
      ]
     },
     "execution_count": 58,
     "metadata": {},
     "output_type": "execute_result"
    }
   ],
   "source": [
    "v1 = [1,2,3]\n",
    "v2 = [2,3,4]\n",
    "\n",
    "sum([x*y for (x,y) in zip(v1,v2)])"
   ]
  },
  {
   "cell_type": "markdown",
   "metadata": {},
   "source": [
    "### reversed\n",
    "\n",
    "As it says on the tin, `reversed()` allows you to iterate through an object in reverse order"
   ]
  },
  {
   "cell_type": "code",
   "execution_count": 59,
   "metadata": {},
   "outputs": [
    {
     "data": {
      "text/plain": [
       "[100, 25, 16]"
      ]
     },
     "execution_count": 59,
     "metadata": {},
     "output_type": "execute_result"
    }
   ],
   "source": [
    "[x*x for x in reversed([4, 5, 10])]"
   ]
  },
  {
   "cell_type": "markdown",
   "metadata": {},
   "source": [
    "# Dictionaries"
   ]
  },
  {
   "cell_type": "markdown",
   "metadata": {},
   "source": [
    "Conceptually, a dictionary is a set of key-value pairs. So it's a set, so it uses curly braces. It is a set, so order is irrelevant, and the keys are immutable."
   ]
  },
  {
   "cell_type": "code",
   "execution_count": 1,
   "metadata": {},
   "outputs": [
    {
     "data": {
      "text/plain": [
       "{'A': 0,\n",
       " 'B': 1,\n",
       " 'C': 2,\n",
       " 'D': 3,\n",
       " 'E': 4,\n",
       " 'F': 5,\n",
       " 'G': 6,\n",
       " 'H': 7,\n",
       " 'I': 8,\n",
       " 'J': 9,\n",
       " 'K': 10,\n",
       " 'L': 11,\n",
       " 'M': 12,\n",
       " 'N': 13,\n",
       " 'O': 14,\n",
       " 'P': 15,\n",
       " 'Q': 16,\n",
       " 'R': 17,\n",
       " 'S': 18,\n",
       " 'T': 19,\n",
       " 'U': 20,\n",
       " 'V': 21,\n",
       " 'W': 22,\n",
       " 'X': 23,\n",
       " 'Y': 24,\n",
       " 'Z': 25}"
      ]
     },
     "execution_count": 1,
     "metadata": {},
     "output_type": "execute_result"
    }
   ],
   "source": [
    "{'A':0, 'B':1, 'C':2, 'D':3, 'E':4, 'F':5, 'G':6, 'H':7, 'I':8,\n",
    "'J':9, 'K':10, 'L':11, 'M':12, 'N':13, 'O':14, 'P':15, 'Q':16,\n",
    "'R':17, 'S':18, 'T':19, 'U':20, 'V':21, 'W':22, 'X':23, 'Y':24,\n",
    "'Z':25}"
   ]
  },
  {
   "cell_type": "code",
   "execution_count": 2,
   "metadata": {},
   "outputs": [
    {
     "data": {
      "text/plain": [
       "{3: 'three', 4: 'four'}"
      ]
     },
     "execution_count": 2,
     "metadata": {},
     "output_type": "execute_result"
    }
   ],
   "source": [
    "# The keys and values can be created using expressions\n",
    "{2+1:'thr'+'ee', 2*2:'fo'+'ur'}"
   ]
  },
  {
   "cell_type": "markdown",
   "metadata": {},
   "source": [
    "### Indexing a dictionary\n",
    "\n",
    "Index using the key value"
   ]
  },
  {
   "cell_type": "code",
   "execution_count": 3,
   "metadata": {},
   "outputs": [
    {
     "name": "stdout",
     "output_type": "stream",
     "text": [
      "four\n",
      "three\n"
     ]
    }
   ],
   "source": [
    "dict =  {4:\"four\", 3:'three'}\n",
    "\n",
    "print(dict[4])\n",
    "print(dict[3])\n",
    "# print(dict[2])   # Whoops"
   ]
  },
  {
   "cell_type": "code",
   "execution_count": 4,
   "metadata": {},
   "outputs": [
    {
     "data": {
      "text/plain": [
       "'Keanu'"
      ]
     },
     "execution_count": 4,
     "metadata": {},
     "output_type": "execute_result"
    }
   ],
   "source": [
    "mydict = {'Neo':'Keanu', 'Morpheus':'Laurence', 'Trinity':'Carrie-Anne'}\n",
    "mydict['Neo']"
   ]
  },
  {
   "cell_type": "code",
   "execution_count": 5,
   "metadata": {},
   "outputs": [],
   "source": [
    "# mydict['Oracle']   # Whoops"
   ]
  },
  {
   "cell_type": "markdown",
   "metadata": {},
   "source": [
    "### Testing dictionary membership"
   ]
  },
  {
   "cell_type": "code",
   "execution_count": 6,
   "metadata": {},
   "outputs": [
    {
     "data": {
      "text/plain": [
       "False"
      ]
     },
     "execution_count": 6,
     "metadata": {},
     "output_type": "execute_result"
    }
   ],
   "source": [
    "'Oracle' in mydict"
   ]
  },
  {
   "cell_type": "code",
   "execution_count": 7,
   "metadata": {},
   "outputs": [
    {
     "data": {
      "text/plain": [
       "'NOT PRESENT'"
      ]
     },
     "execution_count": 7,
     "metadata": {},
     "output_type": "execute_result"
    }
   ],
   "source": [
    "mydict['Oracle'] if 'Oracle' in mydict else 'NOT PRESENT'  # Note the one line if-else statement"
   ]
  },
  {
   "cell_type": "code",
   "execution_count": 8,
   "metadata": {},
   "outputs": [
    {
     "data": {
      "text/plain": [
       "'Keanu'"
      ]
     },
     "execution_count": 8,
     "metadata": {},
     "output_type": "execute_result"
    }
   ],
   "source": [
    " mydict['Neo'] if 'Neo' in mydict else 'NOT PRESENT'"
   ]
  },
  {
   "cell_type": "markdown",
   "metadata": {},
   "source": [
    "### Mutating a dictionary"
   ]
  },
  {
   "cell_type": "markdown",
   "metadata": {},
   "source": [
    "You can mutate a dictionary, mapping a (new or old) key to a given value, using the syntax used for assigning\n",
    "a list element, namely using the index syntax on the left-hand side of an assignment"
   ]
  },
  {
   "cell_type": "code",
   "execution_count": 9,
   "metadata": {},
   "outputs": [
    {
     "data": {
      "text/plain": [
       "{'Neo': 'Philip',\n",
       " 'Morpheus': 'Laurence',\n",
       " 'Trinity': 'Carrie-Anne',\n",
       " 'Agent Smith': 'Hugo'}"
      ]
     },
     "execution_count": 9,
     "metadata": {},
     "output_type": "execute_result"
    }
   ],
   "source": [
    "mydict['Agent Smith'] = 'Hugo'\n",
    "mydict['Neo'] = 'Philip'\n",
    "mydict"
   ]
  },
  {
   "cell_type": "markdown",
   "metadata": {},
   "source": [
    "### Dictionary comprehensions"
   ]
  },
  {
   "cell_type": "code",
   "execution_count": 10,
   "metadata": {},
   "outputs": [
    {
     "data": {
      "text/plain": [
       "{3: 2, 4: 0, 100: 1}"
      ]
     },
     "execution_count": 10,
     "metadata": {},
     "output_type": "execute_result"
    }
   ],
   "source": [
    "{ k:v for (k,v) in [(3,2),(4,0),(100,1)] }"
   ]
  },
  {
   "cell_type": "code",
   "execution_count": 11,
   "metadata": {},
   "outputs": [
    {
     "data": {
      "text/plain": [
       "{(1, 1): 1,\n",
       " (1, 2): 2,\n",
       " (1, 3): 3,\n",
       " (2, 1): 2,\n",
       " (2, 2): 4,\n",
       " (2, 3): 6,\n",
       " (3, 1): 3,\n",
       " (3, 2): 6,\n",
       " (3, 3): 9}"
      ]
     },
     "execution_count": 11,
     "metadata": {},
     "output_type": "execute_result"
    }
   ],
   "source": [
    "{ (x,y):x*y for x in [1,2,3] for y in [1,2,3] }"
   ]
  },
  {
   "cell_type": "markdown",
   "metadata": {},
   "source": [
    "###### Task\n",
    "\n",
    "Using range, write a comprehension whose value is a dictionary. The keys should be the integers\n",
    "from 0 to 99 and the value corresponding to a key should be the square of the key"
   ]
  },
  {
   "cell_type": "code",
   "execution_count": 12,
   "metadata": {},
   "outputs": [
    {
     "data": {
      "text/plain": [
       "{0: 0,\n",
       " 1: 1,\n",
       " 2: 4,\n",
       " 3: 9,\n",
       " 4: 16,\n",
       " 5: 25,\n",
       " 6: 36,\n",
       " 7: 49,\n",
       " 8: 64,\n",
       " 9: 81,\n",
       " 10: 100,\n",
       " 11: 121,\n",
       " 12: 144,\n",
       " 13: 169,\n",
       " 14: 196,\n",
       " 15: 225,\n",
       " 16: 256,\n",
       " 17: 289,\n",
       " 18: 324,\n",
       " 19: 361,\n",
       " 20: 400,\n",
       " 21: 441,\n",
       " 22: 484,\n",
       " 23: 529,\n",
       " 24: 576,\n",
       " 25: 625,\n",
       " 26: 676,\n",
       " 27: 729,\n",
       " 28: 784,\n",
       " 29: 841,\n",
       " 30: 900,\n",
       " 31: 961,\n",
       " 32: 1024,\n",
       " 33: 1089,\n",
       " 34: 1156,\n",
       " 35: 1225,\n",
       " 36: 1296,\n",
       " 37: 1369,\n",
       " 38: 1444,\n",
       " 39: 1521,\n",
       " 40: 1600,\n",
       " 41: 1681,\n",
       " 42: 1764,\n",
       " 43: 1849,\n",
       " 44: 1936,\n",
       " 45: 2025,\n",
       " 46: 2116,\n",
       " 47: 2209,\n",
       " 48: 2304,\n",
       " 49: 2401,\n",
       " 50: 2500,\n",
       " 51: 2601,\n",
       " 52: 2704,\n",
       " 53: 2809,\n",
       " 54: 2916,\n",
       " 55: 3025,\n",
       " 56: 3136,\n",
       " 57: 3249,\n",
       " 58: 3364,\n",
       " 59: 3481,\n",
       " 60: 3600,\n",
       " 61: 3721,\n",
       " 62: 3844,\n",
       " 63: 3969,\n",
       " 64: 4096,\n",
       " 65: 4225,\n",
       " 66: 4356,\n",
       " 67: 4489,\n",
       " 68: 4624,\n",
       " 69: 4761,\n",
       " 70: 4900,\n",
       " 71: 5041,\n",
       " 72: 5184,\n",
       " 73: 5329,\n",
       " 74: 5476,\n",
       " 75: 5625,\n",
       " 76: 5776,\n",
       " 77: 5929,\n",
       " 78: 6084,\n",
       " 79: 6241,\n",
       " 80: 6400,\n",
       " 81: 6561,\n",
       " 82: 6724,\n",
       " 83: 6889,\n",
       " 84: 7056,\n",
       " 85: 7225,\n",
       " 86: 7396,\n",
       " 87: 7569,\n",
       " 88: 7744,\n",
       " 89: 7921,\n",
       " 90: 8100,\n",
       " 91: 8281,\n",
       " 92: 8464,\n",
       " 93: 8649,\n",
       " 94: 8836,\n",
       " 95: 9025,\n",
       " 96: 9216,\n",
       " 97: 9409,\n",
       " 98: 9604,\n",
       " 99: 9801}"
      ]
     },
     "execution_count": 12,
     "metadata": {},
     "output_type": "execute_result"
    }
   ],
   "source": [
    "{ k:k*k for k in range(100) }"
   ]
  },
  {
   "cell_type": "markdown",
   "metadata": {},
   "source": [
    "###### Task\n",
    "\n",
    "Assign to the variable `D` the set `{'red','white','blue'}`. Now write a comprehension that evaluates to a dictionary that represents the identity function on `D`.\n",
    "\n",
    "An identity function can be thought of as a function whose output leaves the input unchanged. In general arithmetic, for example, the function represented by $+ 0$ and $\\times 1$ are the additive and multiplicative identity functions repsectively.\n",
    "\n",
    "\n",
    "\n",
    "We haven't talked about it much yet, but mathematically speaking, a dictionary can represent a function on a FINITE set of elements. The functions represented by $+ 0$ and $\\times 1$ (in typical arithmetic) operate on an infinte set - that is, the set of integers or real numbers.\n",
    "\n",
    "In the previous example, we could see that the dictionary is representing a function on a finite set (the set of integers from 0 to 99) that maps to another set of integers (the square of the set of integers from 0 to 99).\n"
   ]
  },
  {
   "cell_type": "code",
   "execution_count": 13,
   "metadata": {},
   "outputs": [],
   "source": [
    "D = {'red','white','blue'}\n",
    "\n",
    "# Use dictionary to represent a function that maps D -> D\n",
    "identity = {d:d for d in D}"
   ]
  },
  {
   "cell_type": "code",
   "execution_count": 14,
   "metadata": {},
   "outputs": [
    {
     "name": "stdout",
     "output_type": "stream",
     "text": [
      "red\n",
      "white\n",
      "blue\n"
     ]
    }
   ],
   "source": [
    "print(identity['red'])\n",
    "print(identity['white'])\n",
    "print(identity['blue'])"
   ]
  },
  {
   "cell_type": "markdown",
   "metadata": {},
   "source": [
    "###### Task\n",
    "\n",
    "Our system for writing numbers uses decimal notation. For example, the digits $(2, 1, 5)$ represent\n",
    "the number $2 \\times 10^2 + 1 \\times 10^1 + 5 \\times 10^0$. We say for this system that the base is $10$, and that the available digits are $0, 1, 2, \\ldots , 9$. In binary, the digits $(1, 0, 1)$ represent the number $1 × 2^2 + 0 · 2^1 + 1 · 2^0$. In this case, the base is $2$, and the available digits are $0, 1$.\n",
    "\n",
    "Write a dictionary comprehension using the variables base and digits that evaluates to a dictionary that maps each three-digit number to the three digits that represent it. For example, if `base = 10` then digits should be the set $\\{0,1,2,..., 9\\}$ and the comprehension should evaluate to\n",
    "\n",
    "`{0:(0,0,0), 1:(0,0,1), ..., 999:(9,9,9)}`\n",
    "\n",
    "If `base = 2` then digits should be the set $\\{0,1\\}$, and the comprehension should evaluate to\n",
    "\n",
    "`{0:(0,0,0), 1:(0,0,1), 2:(0,1,0),3:(0,1,1), 4:(1,0,0), ...}`\n"
   ]
  },
  {
   "cell_type": "markdown",
   "metadata": {},
   "source": [
    "First, let's look at the modulus operator `%`. Modulus operator is akin to a \"remainder\" operator on integers."
   ]
  },
  {
   "cell_type": "code",
   "execution_count": 15,
   "metadata": {},
   "outputs": [
    {
     "name": "stdout",
     "output_type": "stream",
     "text": [
      "1\n",
      "0\n"
     ]
    }
   ],
   "source": [
    "print(10%3)\n",
    "print(10%2)"
   ]
  },
  {
   "cell_type": "markdown",
   "metadata": {},
   "source": [
    "Now the integer division operator `//`. We looked at division before. Integer division returns the integer component."
   ]
  },
  {
   "cell_type": "code",
   "execution_count": 16,
   "metadata": {},
   "outputs": [
    {
     "name": "stdout",
     "output_type": "stream",
     "text": [
      "0.5\n",
      "0\n",
      "3.3333333333333335\n",
      "3\n",
      "1.8\n",
      "1\n"
     ]
    }
   ],
   "source": [
    "print(1/2)\n",
    "print(1//2)\n",
    "print(10/3)\n",
    "print(10//3)\n",
    "print(9/5)\n",
    "print(9//5)"
   ]
  },
  {
   "cell_type": "markdown",
   "metadata": {},
   "source": [
    "Now on to the task"
   ]
  },
  {
   "cell_type": "code",
   "execution_count": 17,
   "metadata": {},
   "outputs": [
    {
     "data": {
      "text/plain": [
       "{0: (0, 0, 0),\n",
       " 1: (0, 0, 1),\n",
       " 2: (0, 0, 2),\n",
       " 3: (0, 0, 3),\n",
       " 4: (0, 0, 4),\n",
       " 5: (0, 1, 0),\n",
       " 6: (0, 1, 1),\n",
       " 7: (0, 1, 2),\n",
       " 8: (0, 1, 3),\n",
       " 9: (0, 1, 4),\n",
       " 10: (0, 2, 0),\n",
       " 11: (0, 2, 1),\n",
       " 12: (0, 2, 2),\n",
       " 13: (0, 2, 3),\n",
       " 14: (0, 2, 4),\n",
       " 15: (0, 3, 0),\n",
       " 16: (0, 3, 1),\n",
       " 17: (0, 3, 2),\n",
       " 18: (0, 3, 3),\n",
       " 19: (0, 3, 4),\n",
       " 20: (0, 4, 0),\n",
       " 21: (0, 4, 1),\n",
       " 22: (0, 4, 2),\n",
       " 23: (0, 4, 3),\n",
       " 24: (0, 4, 4),\n",
       " 25: (1, 0, 0),\n",
       " 26: (1, 0, 1),\n",
       " 27: (1, 0, 2),\n",
       " 28: (1, 0, 3),\n",
       " 29: (1, 0, 4),\n",
       " 30: (1, 1, 0),\n",
       " 31: (1, 1, 1),\n",
       " 32: (1, 1, 2),\n",
       " 33: (1, 1, 3),\n",
       " 34: (1, 1, 4),\n",
       " 35: (1, 2, 0),\n",
       " 36: (1, 2, 1),\n",
       " 37: (1, 2, 2),\n",
       " 38: (1, 2, 3),\n",
       " 39: (1, 2, 4),\n",
       " 40: (1, 3, 0),\n",
       " 41: (1, 3, 1),\n",
       " 42: (1, 3, 2),\n",
       " 43: (1, 3, 3),\n",
       " 44: (1, 3, 4),\n",
       " 45: (1, 4, 0),\n",
       " 46: (1, 4, 1),\n",
       " 47: (1, 4, 2),\n",
       " 48: (1, 4, 3),\n",
       " 49: (1, 4, 4),\n",
       " 50: (2, 0, 0),\n",
       " 51: (2, 0, 1),\n",
       " 52: (2, 0, 2),\n",
       " 53: (2, 0, 3),\n",
       " 54: (2, 0, 4),\n",
       " 55: (2, 1, 0),\n",
       " 56: (2, 1, 1),\n",
       " 57: (2, 1, 2),\n",
       " 58: (2, 1, 3),\n",
       " 59: (2, 1, 4),\n",
       " 60: (2, 2, 0),\n",
       " 61: (2, 2, 1),\n",
       " 62: (2, 2, 2),\n",
       " 63: (2, 2, 3),\n",
       " 64: (2, 2, 4),\n",
       " 65: (2, 3, 0),\n",
       " 66: (2, 3, 1),\n",
       " 67: (2, 3, 2),\n",
       " 68: (2, 3, 3),\n",
       " 69: (2, 3, 4),\n",
       " 70: (2, 4, 0),\n",
       " 71: (2, 4, 1),\n",
       " 72: (2, 4, 2),\n",
       " 73: (2, 4, 3),\n",
       " 74: (2, 4, 4),\n",
       " 75: (3, 0, 0),\n",
       " 76: (3, 0, 1),\n",
       " 77: (3, 0, 2),\n",
       " 78: (3, 0, 3),\n",
       " 79: (3, 0, 4),\n",
       " 80: (3, 1, 0),\n",
       " 81: (3, 1, 1),\n",
       " 82: (3, 1, 2),\n",
       " 83: (3, 1, 3),\n",
       " 84: (3, 1, 4),\n",
       " 85: (3, 2, 0),\n",
       " 86: (3, 2, 1),\n",
       " 87: (3, 2, 2),\n",
       " 88: (3, 2, 3),\n",
       " 89: (3, 2, 4),\n",
       " 90: (3, 3, 0),\n",
       " 91: (3, 3, 1),\n",
       " 92: (3, 3, 2),\n",
       " 93: (3, 3, 3),\n",
       " 94: (3, 3, 4),\n",
       " 95: (3, 4, 0),\n",
       " 96: (3, 4, 1),\n",
       " 97: (3, 4, 2),\n",
       " 98: (3, 4, 3),\n",
       " 99: (3, 4, 4),\n",
       " 100: (4, 0, 0),\n",
       " 101: (4, 0, 1),\n",
       " 102: (4, 0, 2),\n",
       " 103: (4, 0, 3),\n",
       " 104: (4, 0, 4),\n",
       " 105: (4, 1, 0),\n",
       " 106: (4, 1, 1),\n",
       " 107: (4, 1, 2),\n",
       " 108: (4, 1, 3),\n",
       " 109: (4, 1, 4),\n",
       " 110: (4, 2, 0),\n",
       " 111: (4, 2, 1),\n",
       " 112: (4, 2, 2),\n",
       " 113: (4, 2, 3),\n",
       " 114: (4, 2, 4),\n",
       " 115: (4, 3, 0),\n",
       " 116: (4, 3, 1),\n",
       " 117: (4, 3, 2),\n",
       " 118: (4, 3, 3),\n",
       " 119: (4, 3, 4),\n",
       " 120: (4, 4, 0),\n",
       " 121: (4, 4, 1),\n",
       " 122: (4, 4, 2),\n",
       " 123: (4, 4, 3),\n",
       " 124: (4, 4, 4)}"
      ]
     },
     "execution_count": 17,
     "metadata": {},
     "output_type": "execute_result"
    }
   ],
   "source": [
    "base = 5\n",
    "{x:(x//base**2,(x//base)%base,x%base) for x in range(base**3) }"
   ]
  },
  {
   "cell_type": "markdown",
   "metadata": {},
   "source": [
    "### Comprehensions on dictionaries"
   ]
  },
  {
   "cell_type": "code",
   "execution_count": 18,
   "metadata": {},
   "outputs": [
    {
     "data": {
      "text/plain": [
       "dict_keys([4, 3])"
      ]
     },
     "execution_count": 18,
     "metadata": {},
     "output_type": "execute_result"
    }
   ],
   "source": [
    "{4:'a',3:'b'}.keys()    # Not a list, but it is list-like"
   ]
  },
  {
   "cell_type": "code",
   "execution_count": 19,
   "metadata": {},
   "outputs": [
    {
     "data": {
      "text/plain": [
       "dict_values(['a', 'b'])"
      ]
     },
     "execution_count": 19,
     "metadata": {},
     "output_type": "execute_result"
    }
   ],
   "source": [
    "{4:'a',3:'b'}.values()"
   ]
  },
  {
   "cell_type": "code",
   "execution_count": 20,
   "metadata": {},
   "outputs": [
    {
     "data": {
      "text/plain": [
       "[8, 6]"
      ]
     },
     "execution_count": 20,
     "metadata": {},
     "output_type": "execute_result"
    }
   ],
   "source": [
    "[2*x for x in {4:'a',3:'b'}.keys()]"
   ]
  },
  {
   "cell_type": "code",
   "execution_count": 21,
   "metadata": {},
   "outputs": [
    {
     "data": {
      "text/plain": [
       "['a', 'b']"
      ]
     },
     "execution_count": 21,
     "metadata": {},
     "output_type": "execute_result"
    }
   ],
   "source": [
    "[x for x in {4:'a',3:'b'}.values()]"
   ]
  },
  {
   "cell_type": "markdown",
   "metadata": {},
   "source": [
    "You can also use the union operator `|` and intersection operator `&`"
   ]
  },
  {
   "cell_type": "code",
   "execution_count": 22,
   "metadata": {},
   "outputs": [
    {
     "data": {
      "text/plain": [
       "{'a', 'b', 'c'}"
      ]
     },
     "execution_count": 22,
     "metadata": {},
     "output_type": "execute_result"
    }
   ],
   "source": [
    "{'a':1, 'b':2}.keys() | {'b':3, 'c':4}.keys()"
   ]
  },
  {
   "cell_type": "code",
   "execution_count": 23,
   "metadata": {},
   "outputs": [
    {
     "data": {
      "text/plain": [
       "{'b'}"
      ]
     },
     "execution_count": 23,
     "metadata": {},
     "output_type": "execute_result"
    }
   ],
   "source": [
    "{'a':1, 'b':2}.keys() & {'b':3, 'c':4}.keys()"
   ]
  },
  {
   "cell_type": "code",
   "execution_count": 24,
   "metadata": {},
   "outputs": [
    {
     "data": {
      "text/plain": [
       "['a', 'b', 'c']"
      ]
     },
     "execution_count": 24,
     "metadata": {},
     "output_type": "execute_result"
    }
   ],
   "source": [
    "[k for k in {'a':1, 'b':2}.keys() | {'b':3, 'c':4}.keys()]"
   ]
  },
  {
   "cell_type": "code",
   "execution_count": 25,
   "metadata": {},
   "outputs": [
    {
     "data": {
      "text/plain": [
       "['b']"
      ]
     },
     "execution_count": 25,
     "metadata": {},
     "output_type": "execute_result"
    }
   ],
   "source": [
    "[k for k in {'a':1, 'b':2}.keys() & {'b':3, 'c':4}.keys()]"
   ]
  },
  {
   "cell_type": "markdown",
   "metadata": {},
   "source": [
    "### `item()`\n",
    "Maybe you want to iterate over the (key, value) pairs?"
   ]
  },
  {
   "cell_type": "code",
   "execution_count": 26,
   "metadata": {},
   "outputs": [
    {
     "data": {
      "text/plain": [
       "[('Neo', 'Philip'),\n",
       " ('Morpheus', 'Laurence'),\n",
       " ('Trinity', 'Carrie-Anne'),\n",
       " ('Agent Smith', 'Hugo')]"
      ]
     },
     "execution_count": 26,
     "metadata": {},
     "output_type": "execute_result"
    }
   ],
   "source": [
    "[item for item in mydict.items()]        # Note the output is each pair as a tuple"
   ]
  },
  {
   "cell_type": "code",
   "execution_count": 27,
   "metadata": {},
   "outputs": [
    {
     "data": {
      "text/plain": [
       "['Neo is played by Philip',\n",
       " 'Morpheus is played by Laurence',\n",
       " 'Trinity is played by Carrie-Anne',\n",
       " 'Agent Smith is played by Hugo']"
      ]
     },
     "execution_count": 27,
     "metadata": {},
     "output_type": "execute_result"
    }
   ],
   "source": [
    "# you can access the key and value separately using unpacking\n",
    "[k + \" is played by \" + v for (k,v) in mydict.items()]"
   ]
  },
  {
   "cell_type": "code",
   "execution_count": 28,
   "metadata": {},
   "outputs": [
    {
     "data": {
      "text/plain": [
       "[8, 8, 201]"
      ]
     },
     "execution_count": 28,
     "metadata": {},
     "output_type": "execute_result"
    }
   ],
   "source": [
    "[2*k+v for (k,v) in {4:0,3:2,100:1}.items() ]"
   ]
  },
  {
   "cell_type": "markdown",
   "metadata": {},
   "source": [
    "# One line procedures\n",
    "\n",
    "We covered functions in a previous tutorial. Let's have a look at one line functions/procedures. In fact, they are exactly the same syntax, we just collapse it."
   ]
  },
  {
   "cell_type": "code",
   "execution_count": 29,
   "metadata": {},
   "outputs": [],
   "source": [
    "# Double the input\n",
    "def twice(z): return 2*z"
   ]
  },
  {
   "cell_type": "code",
   "execution_count": 30,
   "metadata": {},
   "outputs": [
    {
     "data": {
      "text/plain": [
       "4"
      ]
     },
     "execution_count": 30,
     "metadata": {},
     "output_type": "execute_result"
    }
   ],
   "source": [
    "twice(2)"
   ]
  },
  {
   "cell_type": "code",
   "execution_count": 31,
   "metadata": {},
   "outputs": [
    {
     "data": {
      "text/plain": [
       "8"
      ]
     },
     "execution_count": 31,
     "metadata": {},
     "output_type": "execute_result"
    }
   ],
   "source": [
    "twice(4)"
   ]
  },
  {
   "cell_type": "markdown",
   "metadata": {},
   "source": [
    "###### Task\n",
    "\n",
    "Define a one-line procedure `nextInts(L)` specified as follows:\n",
    "* input: list `L` of integers\n",
    "* output: list of integers whose `i`'th element is one more than the `i`'th element of `L`\n",
    "* example: input `[1, 5, 7]`, output `[2, 6, 8]`."
   ]
  },
  {
   "cell_type": "code",
   "execution_count": 32,
   "metadata": {},
   "outputs": [],
   "source": [
    "def nextInts(L): return [i+1 for i in L]"
   ]
  },
  {
   "cell_type": "code",
   "execution_count": 33,
   "metadata": {},
   "outputs": [
    {
     "data": {
      "text/plain": [
       "[2, 6, 8]"
      ]
     },
     "execution_count": 33,
     "metadata": {},
     "output_type": "execute_result"
    }
   ],
   "source": [
    "nextInts([1, 5, 7])"
   ]
  },
  {
   "cell_type": "markdown",
   "metadata": {},
   "source": [
    "###### Task\n",
    "\n",
    "Define a one-line procedure `cubes(L)` specified as follows:\n",
    "* input: list `L` of numbers\n",
    "* output: list of numbers whose `i`'th element is the cube of the `i`'th element of `L`\n",
    "* example: input `[1, 2, 3]`, output `[1, 8, 27]`."
   ]
  },
  {
   "cell_type": "code",
   "execution_count": 34,
   "metadata": {},
   "outputs": [],
   "source": [
    "def cubes(L): return [i**3 for i in L]"
   ]
  },
  {
   "cell_type": "code",
   "execution_count": 35,
   "metadata": {},
   "outputs": [
    {
     "data": {
      "text/plain": [
       "[1.7279999999999998, 8, 64]"
      ]
     },
     "execution_count": 35,
     "metadata": {},
     "output_type": "execute_result"
    }
   ],
   "source": [
    "cubes([1.2,2,4])"
   ]
  },
  {
   "cell_type": "markdown",
   "metadata": {},
   "source": [
    "###### Task\n",
    "\n",
    "Define a one-line procedure `dict2list(dct,keylist)` with this spec:\n",
    "* input: dictionary `dct`, list `keylist` consisting of the keys of dct\n",
    "* output: list `L` such that `L[i] = dct[keylist[i]]` for `i = 0, 1, 2, . . . , len(keylist) − 1`\n",
    "* example: input `dct={'a':'A', 'b':'B', 'c':'C'}` and `keylist=['b','c','a']`, output `['B', 'C', 'A']`\n"
   ]
  },
  {
   "cell_type": "code",
   "execution_count": 36,
   "metadata": {},
   "outputs": [],
   "source": [
    "def dict2list(dct,keylist): return [dct[k] for k in keylist]"
   ]
  },
  {
   "cell_type": "code",
   "execution_count": 37,
   "metadata": {},
   "outputs": [
    {
     "data": {
      "text/plain": [
       "['B', 'C', 'A']"
      ]
     },
     "execution_count": 37,
     "metadata": {},
     "output_type": "execute_result"
    }
   ],
   "source": [
    "dct={'a':'A', 'b':'B', 'c':'C'}\n",
    "keylist=['b','c','a']\n",
    "\n",
    "dict2list(dct,keylist)"
   ]
  },
  {
   "cell_type": "markdown",
   "metadata": {},
   "source": [
    "###### Task\n",
    "\n",
    "Define a one-line procedure `list2dict(L, keylist)` specified as follows:\n",
    "* input: list `L`, list keylist of immutable items\n",
    "* output: dictionary that maps `keylist[i]` to `L[i]` for `i = 0, 1, 2, . . . , len(L) − 1`\n",
    "* example: input `L=['A','B','C']` and `keylist=['a','b','c']`, output `{'a':'A', 'b':'B', 'c':'C'}`\n",
    "\n",
    "Hint: Use a comprehension that iterates over a zip or a range.\n"
   ]
  },
  {
   "cell_type": "code",
   "execution_count": 38,
   "metadata": {},
   "outputs": [],
   "source": [
    "def list2dict(L, keylist): return {k:v for (k,v) in zip(keylist,L)}"
   ]
  },
  {
   "cell_type": "code",
   "execution_count": 39,
   "metadata": {},
   "outputs": [
    {
     "data": {
      "text/plain": [
       "{'a': 'A', 'b': 'B', 'c': 'C'}"
      ]
     },
     "execution_count": 39,
     "metadata": {},
     "output_type": "execute_result"
    }
   ],
   "source": [
    "L=['A','B','C']\n",
    "keylist=['a','b','c']\n",
    "list2dict(L, keylist)"
   ]
  },
  {
   "cell_type": "code",
   "execution_count": null,
   "metadata": {},
   "outputs": [],
   "source": []
  }
 ],
 "metadata": {
  "kernelspec": {
   "display_name": "Python 3",
   "language": "python",
   "name": "python3"
  },
  "language_info": {
   "codemirror_mode": {
    "name": "ipython",
    "version": 3
   },
   "file_extension": ".py",
   "mimetype": "text/x-python",
   "name": "python",
   "nbconvert_exporter": "python",
   "pygments_lexer": "ipython3",
   "version": "3.8.3"
  }
 },
 "nbformat": 4,
 "nbformat_minor": 4
}
