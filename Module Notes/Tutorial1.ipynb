{
 "cells": [
  {
   "cell_type": "markdown",
   "metadata": {
    "id": "EV6l55JSWDtU"
   },
   "source": [
    "# Tutorial 1\n",
    "\n",
    "In this tutorial, we cover:\n",
    "* The basics of Python notebooks\n",
    "* Different types of cells\n",
    "* The notebook kernel\n",
    "\n",
    "This is taken, in part, from:\n",
    "[https://www.dataquest.io/blog/jupyter-notebook-tutorial/](https://www.dataquest.io/blog/jupyter-notebook-tutorial/)\n",
    "\n",
    "Though that site covers more than what we cover here."
   ]
  },
  {
   "cell_type": "code",
   "execution_count": 7,
   "metadata": {
    "colab": {
     "base_uri": "https://localhost:8080/"
    },
    "id": "4QCfpj5AZuiy",
    "outputId": "f2d5e4e8-d00b-42a8-a0c1-60d49247aa8b"
   },
   "outputs": [
    {
     "name": "stdout",
     "output_type": "stream",
     "text": [
      "Hello World\n"
     ]
    }
   ],
   "source": [
    "# A very simple example of Python code. The code is passed to the kernel\n",
    "# and the result is returned by the kernel to the cell for display\n",
    "print('Hello World')"
   ]
  },
  {
   "cell_type": "markdown",
   "metadata": {
    "id": "7uVgxexdcE27"
   },
   "source": [
    "# Some basic Markdown\n",
    "\n",
    "Use markdown for describing any activity you undertake.\n",
    "\n",
    "# This is a level 1 heading\n",
    "\n",
    "## This is a level 2 heading\n",
    "\n",
    "This is some plain text that forms a paragraph. Add emphasis via **bold** and __bold__, or *italic* and _italic_. \n",
    "\n",
    "Paragraphs must be separated by an empty line. \n",
    "\n",
    "* Sometimes we want to include lists. \n",
    "* Which can be bulleted using asterisks. \n",
    "\n",
    "1. Lists can also be numbered. \n",
    "2. If we want an ordered list.\n",
    "\n",
    "[It is possible to include hyperlinks](https://www.example.com)\n",
    "\n",
    "Inline code uses single backticks: `foo()`, and code blocks use triple backticks: \n",
    "```\n",
    "bar()\n",
    "``` "
   ]
  },
  {
   "cell_type": "markdown",
   "metadata": {
    "id": "S39oqN9VezK2"
   },
   "source": [
    "# The kernel"
   ]
  },
  {
   "cell_type": "code",
   "execution_count": 4,
   "metadata": {
    "id": "Fw9S3_twcmXk"
   },
   "outputs": [],
   "source": [
    "# Variables, functions and library imports run in one cell...\n",
    "\n",
    "import numpy as np\n",
    "def square(x):\n",
    "    return x * x"
   ]
  },
  {
   "cell_type": "code",
   "execution_count": 5,
   "metadata": {
    "colab": {
     "base_uri": "https://localhost:8080/"
    },
    "id": "ugprSAUEdObQ",
    "outputId": "532eaaf6-861f-4a79-ae93-2647c85471c7"
   },
   "outputs": [
    {
     "name": "stdout",
     "output_type": "stream",
     "text": [
      "1 squared is 1\n"
     ]
    }
   ],
   "source": [
    "# ...are available in another. This is because there is a single\n",
    "# kernel running in the background for the entire notebook\n",
    "\n",
    "x = np.random.randint(1, 10)\n",
    "y = square(x)\n",
    "print('%d squared is %d' % (x, y))"
   ]
  },
  {
   "cell_type": "code",
   "execution_count": null,
   "metadata": {
    "id": "h8JEQfcqdm_B"
   },
   "outputs": [],
   "source": [
    "# Try running the cells above out of order. Restart the kernel (in colab,\n",
    "# go to Runtime -> Restart Runtime)."
   ]
  }
 ],
 "metadata": {
  "colab": {
   "name": "Tutorial1.ipynb",
   "provenance": []
  },
  "kernelspec": {
   "display_name": "Python 3",
   "language": "python",
   "name": "python3"
  },
  "language_info": {
   "codemirror_mode": {
    "name": "ipython",
    "version": 3
   },
   "file_extension": ".py",
   "mimetype": "text/x-python",
   "name": "python",
   "nbconvert_exporter": "python",
   "pygments_lexer": "ipython3",
   "version": "3.8.3"
  }
 },
 "nbformat": 4,
 "nbformat_minor": 1
}
